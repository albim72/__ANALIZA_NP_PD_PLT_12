{
 "cells":[
  {
   "cell_type":"code",
   "source":[
    "import numpy as np"
   ],
   "execution_count":6,
   "outputs":[],
   "metadata":{
    "datalore":{
     "node_id":"2WrbM2xZJ3znQSG8MHFC0d",
     "type":"CODE",
     "hide_input_from_viewers":true,
     "hide_output_from_viewers":true
    }
   }
  },
  {
   "cell_type":"code",
   "source":[
    "# 1. Tworzenie jednowymiarowego wektora za pomocą numpy.array()\n",
    "wektor = np.array([1, 2, 3, 4, 5])\n",
    "print(\"Jednowymiarowy wektor:\")\n",
    "print(wektor)"
   ],
   "execution_count":7,
   "outputs":[
    {
     "name":"stdout",
     "text":[
      "Jednowymiarowy wektor:\n",
      "[1 2 3 4 5]\n"
     ],
     "output_type":"stream"
    }
   ],
   "metadata":{
    "datalore":{
     "node_id":"aSO8VkOE5HUaYKIdU7A0Fn",
     "type":"CODE",
     "hide_input_from_viewers":true,
     "hide_output_from_viewers":true
    }
   }
  },
  {
   "cell_type":"code",
   "source":[
    "# 2. Tworzenie macierzy dwuwymiarowej za pomocą numpy.array()\n",
    "macierz = np.array([[1, 2, 3], [4, 5, 6], [7, 8, 9]])\n",
    "print(\"\\nDwuwymiarowa macierz:\")\n",
    "print(macierz)"
   ],
   "execution_count":8,
   "outputs":[
    {
     "name":"stdout",
     "text":[
      "\n",
      "Dwuwymiarowa macierz:\n",
      "[[1 2 3]\n",
      " [4 5 6]\n",
      " [7 8 9]]\n"
     ],
     "output_type":"stream"
    }
   ],
   "metadata":{
    "datalore":{
     "node_id":"YlZg2VFmUMhuhAkmLk21N6",
     "type":"CODE",
     "hide_input_from_viewers":true,
     "hide_output_from_viewers":true
    }
   }
  },
  {
   "cell_type":"code",
   "source":[
    "# 3. Tworzenie macierzy wypełnionej zerami za pomocą numpy.zeros()\n",
    "macierz_zer = np.zeros((3, 3))\n",
    "print(\"\\nMacierz wypełniona zerami:\")\n",
    "print(macierz_zer)"
   ],
   "execution_count":9,
   "outputs":[
    {
     "name":"stdout",
     "text":[
      "\n",
      "Macierz wypełniona zerami:\n",
      "[[0. 0. 0.]\n",
      " [0. 0. 0.]\n",
      " [0. 0. 0.]]\n"
     ],
     "output_type":"stream"
    }
   ],
   "metadata":{
    "datalore":{
     "node_id":"p2Bq58036y8CWJptMKXhDC",
     "type":"CODE",
     "hide_input_from_viewers":true,
     "hide_output_from_viewers":true
    }
   }
  },
  {
   "cell_type":"code",
   "source":[
    "# 4. Tworzenie macierzy wypełnionej jedynkami za pomocą numpy.ones()\n",
    "macierz_jed = np.ones((3, 3))\n",
    "print(\"\\nMacierz wypełniona jedynkami:\")\n",
    "print(macierz_jed)"
   ],
   "execution_count":10,
   "outputs":[
    {
     "name":"stdout",
     "text":[
      "\n",
      "Macierz wypełniona jedynkami:\n",
      "[[1. 1. 1.]\n",
      " [1. 1. 1.]\n",
      " [1. 1. 1.]]\n"
     ],
     "output_type":"stream"
    }
   ],
   "metadata":{
    "datalore":{
     "node_id":"OkizBtY5wc4mMDev0kRbUX",
     "type":"CODE",
     "hide_input_from_viewers":true,
     "hide_output_from_viewers":true
    }
   }
  }
 ],
 "metadata":{
  "kernelspec":{
   "display_name":"Python",
   "language":"python",
   "name":"python"
  },
  "datalore":{
   "computation_mode":"JUPYTER",
   "package_manager":"pip",
   "base_environment":"default",
   "packages":[],
   "report_row_ids":[],
   "version":3
  }
 },
 "nbformat":4,
 "nbformat_minor":4
}