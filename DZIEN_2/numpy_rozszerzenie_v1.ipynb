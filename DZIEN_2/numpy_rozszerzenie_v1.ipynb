{
 "cells":[
  {
   "cell_type":"code",
   "source":[
    "import numpy as np"
   ],
   "execution_count":1,
   "outputs":[],
   "metadata":{
    "datalore":{
     "node_id":"TwTpI4WZlRDNNVIzrswmCZ",
     "type":"CODE",
     "hide_input_from_viewers":true,
     "hide_output_from_viewers":true
    }
   }
  },
  {
   "cell_type":"code",
   "source":[
    "arr = np.arange(15).reshape((3,5))\n",
    "arr"
   ],
   "execution_count":2,
   "outputs":[
    {
     "data":{
      "text\/html":[
       "<pre>array([[ 0,  1,  2,  3,  4],\n",
       "       [ 5,  6,  7,  8,  9],\n",
       "       [10, 11, 12, 13, 14]])<\/pre>"
      ]
     },
     "metadata":{},
     "output_type":"display_data"
    }
   ],
   "metadata":{
    "datalore":{
     "node_id":"k6ME8TiuzitHpUlbS3wDsb",
     "type":"CODE",
     "hide_input_from_viewers":true,
     "hide_output_from_viewers":true
    }
   }
  },
  {
   "cell_type":"code",
   "source":[
    "arr.T"
   ],
   "execution_count":3,
   "outputs":[
    {
     "data":{
      "text\/html":[
       "<pre>array([[ 0,  5, 10],\n",
       "       [ 1,  6, 11],\n",
       "       [ 2,  7, 12],\n",
       "       [ 3,  8, 13],\n",
       "       [ 4,  9, 14]])<\/pre>"
      ]
     },
     "metadata":{},
     "output_type":"display_data"
    }
   ],
   "metadata":{
    "datalore":{
     "node_id":"ZgPsjotvfu2VfPMvWoxJOq",
     "type":"CODE",
     "hide_input_from_viewers":true,
     "hide_output_from_viewers":true
    }
   }
  },
  {
   "cell_type":"code",
   "source":[
    "arr = np.random.randn(6,3)\n",
    "arr"
   ],
   "execution_count":5,
   "outputs":[
    {
     "data":{
      "text\/html":[
       "<pre>array([[-0.85242643, -0.06678923,  0.63267998],\n",
       "       [ 0.09245514, -0.86237251,  1.29871072],\n",
       "       [-1.40709905, -0.29242317,  0.14138486],\n",
       "       [-0.29446074,  0.61784343,  0.49026409],\n",
       "       [-0.86198049,  1.90967939,  0.6993084 ],\n",
       "       [ 1.68901648,  1.60490743,  0.49833173]])<\/pre>"
      ]
     },
     "metadata":{},
     "output_type":"display_data"
    }
   ],
   "metadata":{
    "datalore":{
     "node_id":"uazUWgU270ksR0H6jmO18t",
     "type":"CODE",
     "hide_input_from_viewers":true,
     "hide_output_from_viewers":true
    }
   }
  },
  {
   "cell_type":"code",
   "source":[
    "arr.T"
   ],
   "execution_count":6,
   "outputs":[
    {
     "data":{
      "text\/html":[
       "<pre>array([[-0.85242643,  0.09245514, -1.40709905, -0.29446074, -0.86198049,\n",
       "         1.68901648],\n",
       "       [-0.06678923, -0.86237251, -0.29242317,  0.61784343,  1.90967939,\n",
       "         1.60490743],\n",
       "       [ 0.63267998,  1.29871072,  0.14138486,  0.49026409,  0.6993084 ,\n",
       "         0.49833173]])<\/pre>"
      ]
     },
     "metadata":{},
     "output_type":"display_data"
    }
   ],
   "metadata":{
    "datalore":{
     "node_id":"jUVN16qglbikuIDGJQqn0c",
     "type":"CODE",
     "hide_input_from_viewers":true,
     "hide_output_from_viewers":true
    }
   }
  },
  {
   "cell_type":"code",
   "source":[
    "np.dot(arr.T,arr)"
   ],
   "execution_count":7,
   "outputs":[
    {
     "data":{
      "text\/html":[
       "<pre>array([[ 6.39760067,  1.27134858, -0.52364637],\n",
       "       [ 1.27134858,  7.43799217,  1.23456475],\n",
       "       [-0.52364637,  1.23456475,  3.0846488 ]])<\/pre>"
      ]
     },
     "metadata":{},
     "output_type":"display_data"
    }
   ],
   "metadata":{
    "datalore":{
     "node_id":"8Ym07TQq2eUBjiaL5U3e87",
     "type":"CODE",
     "hide_input_from_viewers":true,
     "hide_output_from_viewers":true
    }
   }
  },
  {
   "cell_type":"code",
   "source":[
    "A = np.array([[1,2],[3,4]])\n",
    "B = np.array([5,6])\n",
    "\n",
    "result = np.dot(A,B)\n",
    "result\n",
    "\n",
    "#result = [1*5+2*6,3*5+4*6]"
   ],
   "execution_count":8,
   "outputs":[
    {
     "data":{
      "text\/html":[
       "<pre>array([17, 39])<\/pre>"
      ]
     },
     "metadata":{},
     "output_type":"display_data"
    }
   ],
   "metadata":{
    "datalore":{
     "node_id":"sDX8vY6dzpVeFGoAWO2ktB",
     "type":"CODE",
     "hide_input_from_viewers":true,
     "hide_output_from_viewers":true
    }
   }
  },
  {
   "cell_type":"code",
   "source":[
    "#tensor3D\n",
    "tens = np.arange(27).reshape(3,3,3)\n",
    "tens"
   ],
   "execution_count":9,
   "outputs":[
    {
     "data":{
      "text\/plain":[
       "array([[[ 0,  1,  2],\n",
       "        [ 3,  4,  5],\n",
       "        [ 6,  7,  8]],\n",
       "\n",
       "       [[ 9, 10, 11],\n",
       "        [12, 13, 14],\n",
       "        [15, 16, 17]],\n",
       "\n",
       "       [[18, 19, 20],\n",
       "        [21, 22, 23],\n",
       "        [24, 25, 26]]])"
      ]
     },
     "metadata":{},
     "output_type":"display_data"
    }
   ],
   "metadata":{
    "datalore":{
     "node_id":"G4efHwcsM4HLtgdAECdVyU",
     "type":"CODE",
     "hide_input_from_viewers":true,
     "hide_output_from_viewers":true
    }
   }
  },
  {
   "cell_type":"code",
   "source":[
    "tens.T"
   ],
   "execution_count":10,
   "outputs":[
    {
     "data":{
      "text\/plain":[
       "array([[[ 0,  9, 18],\n",
       "        [ 3, 12, 21],\n",
       "        [ 6, 15, 24]],\n",
       "\n",
       "       [[ 1, 10, 19],\n",
       "        [ 4, 13, 22],\n",
       "        [ 7, 16, 25]],\n",
       "\n",
       "       [[ 2, 11, 20],\n",
       "        [ 5, 14, 23],\n",
       "        [ 8, 17, 26]]])"
      ]
     },
     "metadata":{},
     "output_type":"display_data"
    }
   ],
   "metadata":{
    "datalore":{
     "node_id":"c2qnztlZ0F9dpmXqaQAtrr",
     "type":"CODE",
     "hide_input_from_viewers":true,
     "hide_output_from_viewers":true
    }
   }
  },
  {
   "cell_type":"code",
   "source":[
    "tens.transpose(2,0,1)"
   ],
   "execution_count":11,
   "outputs":[
    {
     "data":{
      "text\/plain":[
       "array([[[ 0,  3,  6],\n",
       "        [ 9, 12, 15],\n",
       "        [18, 21, 24]],\n",
       "\n",
       "       [[ 1,  4,  7],\n",
       "        [10, 13, 16],\n",
       "        [19, 22, 25]],\n",
       "\n",
       "       [[ 2,  5,  8],\n",
       "        [11, 14, 17],\n",
       "        [20, 23, 26]]])"
      ]
     },
     "metadata":{},
     "output_type":"display_data"
    }
   ],
   "metadata":{
    "datalore":{
     "node_id":"1Pc5CqDNeO4DAMGBB7MyMo",
     "type":"CODE",
     "hide_input_from_viewers":true,
     "hide_output_from_viewers":true
    }
   }
  },
  {
   "cell_type":"code",
   "source":[
    "tab5D = np.arange(240).reshape((2,2,4,5,3))\n",
    "tab5D"
   ],
   "execution_count":12,
   "outputs":[
    {
     "data":{
      "text\/plain":[
       "array([[[[[  0,   1,   2],\n",
       "          [  3,   4,   5],\n",
       "          [  6,   7,   8],\n",
       "          [  9,  10,  11],\n",
       "          [ 12,  13,  14]],\n",
       "\n",
       "         [[ 15,  16,  17],\n",
       "          [ 18,  19,  20],\n",
       "          [ 21,  22,  23],\n",
       "          [ 24,  25,  26],\n",
       "          [ 27,  28,  29]],\n",
       "\n",
       "         [[ 30,  31,  32],\n",
       "          [ 33,  34,  35],\n",
       "          [ 36,  37,  38],\n",
       "          [ 39,  40,  41],\n",
       "          [ 42,  43,  44]],\n",
       "\n",
       "         [[ 45,  46,  47],\n",
       "          [ 48,  49,  50],\n",
       "          [ 51,  52,  53],\n",
       "          [ 54,  55,  56],\n",
       "          [ 57,  58,  59]]],\n",
       "\n",
       "\n",
       "        [[[ 60,  61,  62],\n",
       "          [ 63,  64,  65],\n",
       "          [ 66,  67,  68],\n",
       "          [ 69,  70,  71],\n",
       "          [ 72,  73,  74]],\n",
       "\n",
       "         [[ 75,  76,  77],\n",
       "          [ 78,  79,  80],\n",
       "          [ 81,  82,  83],\n",
       "          [ 84,  85,  86],\n",
       "          [ 87,  88,  89]],\n",
       "\n",
       "         [[ 90,  91,  92],\n",
       "          [ 93,  94,  95],\n",
       "          [ 96,  97,  98],\n",
       "          [ 99, 100, 101],\n",
       "          [102, 103, 104]],\n",
       "\n",
       "         [[105, 106, 107],\n",
       "          [108, 109, 110],\n",
       "          [111, 112, 113],\n",
       "          [114, 115, 116],\n",
       "          [117, 118, 119]]]],\n",
       "\n",
       "\n",
       "\n",
       "       [[[[120, 121, 122],\n",
       "          [123, 124, 125],\n",
       "          [126, 127, 128],\n",
       "          [129, 130, 131],\n",
       "          [132, 133, 134]],\n",
       "\n",
       "         [[135, 136, 137],\n",
       "          [138, 139, 140],\n",
       "          [141, 142, 143],\n",
       "          [144, 145, 146],\n",
       "          [147, 148, 149]],\n",
       "\n",
       "         [[150, 151, 152],\n",
       "          [153, 154, 155],\n",
       "          [156, 157, 158],\n",
       "          [159, 160, 161],\n",
       "          [162, 163, 164]],\n",
       "\n",
       "         [[165, 166, 167],\n",
       "          [168, 169, 170],\n",
       "          [171, 172, 173],\n",
       "          [174, 175, 176],\n",
       "          [177, 178, 179]]],\n",
       "\n",
       "\n",
       "        [[[180, 181, 182],\n",
       "          [183, 184, 185],\n",
       "          [186, 187, 188],\n",
       "          [189, 190, 191],\n",
       "          [192, 193, 194]],\n",
       "\n",
       "         [[195, 196, 197],\n",
       "          [198, 199, 200],\n",
       "          [201, 202, 203],\n",
       "          [204, 205, 206],\n",
       "          [207, 208, 209]],\n",
       "\n",
       "         [[210, 211, 212],\n",
       "          [213, 214, 215],\n",
       "          [216, 217, 218],\n",
       "          [219, 220, 221],\n",
       "          [222, 223, 224]],\n",
       "\n",
       "         [[225, 226, 227],\n",
       "          [228, 229, 230],\n",
       "          [231, 232, 233],\n",
       "          [234, 235, 236],\n",
       "          [237, 238, 239]]]]])"
      ]
     },
     "metadata":{},
     "output_type":"display_data"
    }
   ],
   "metadata":{
    "datalore":{
     "node_id":"P4MPeXvl779HUGhVFiWcFE",
     "type":"CODE",
     "hide_input_from_viewers":true,
     "hide_output_from_viewers":true
    }
   }
  }
 ],
 "metadata":{
  "kernelspec":{
   "display_name":"Python",
   "language":"python",
   "name":"python"
  },
  "datalore":{
   "computation_mode":"JUPYTER",
   "package_manager":"pip",
   "base_environment":"default",
   "packages":[],
   "report_row_ids":[],
   "version":3
  }
 },
 "nbformat":4,
 "nbformat_minor":4
}