{
 "cells":[
  {
   "cell_type":"code",
   "source":[
    "import numpy as np\n",
    "import matplotlib.pyplot as plt"
   ],
   "execution_count":1,
   "outputs":[],
   "metadata":{
    "datalore":{
     "node_id":"9fkdpVx1Ib0WUGBgEVa9I2",
     "type":"CODE",
     "hide_input_from_viewers":true,
     "hide_output_from_viewers":true
    }
   }
  },
  {
   "cell_type":"code",
   "source":[
    "#parametry sygnału\n",
    "sampling_rate = 1000 #Hz (liczba próbek na sekundę)\n",
    "duration = 2 #czas trwania w sekundach\n",
    "t = np.linspace(0,duration,sampling_rate*duration,endpoint=False) #oś czasu [x]"
   ],
   "execution_count":2,
   "outputs":[],
   "metadata":{
    "datalore":{
     "node_id":"tkv4xBfZYOxc8tJ52Mq95Q",
     "type":"CODE",
     "hide_input_from_viewers":true,
     "hide_output_from_viewers":true
    }
   }
  },
  {
   "cell_type":"code",
   "source":[
    "#opis sygnału\n",
    "freq1 = 5 #częstotliwość 1 sinusoidy w Hz\n",
    "freq2 = 50 #częstotliwość 1 sinusoidy w Hz\n",
    "signal = np.sin(2*np.pi*freq1*t)+0.5*np.sin(2*np.pi*freq2*t)"
   ],
   "execution_count":3,
   "outputs":[],
   "metadata":{
    "datalore":{
     "node_id":"30d0W7S4MmTZ81wNoNl6ND",
     "type":"CODE",
     "hide_input_from_viewers":true,
     "hide_output_from_viewers":true
    }
   }
  },
  {
   "cell_type":"code",
   "source":[
    "#dodawanie szumu\n",
    "noise = 0.2*np.random.normal(size=t.shape)\n",
    "noisy_signal = signal+noise"
   ],
   "execution_count":4,
   "outputs":[],
   "metadata":{
    "datalore":{
     "node_id":"Jf5rNnO67yNhWKXznGN5au",
     "type":"CODE",
     "hide_input_from_viewers":true,
     "hide_output_from_viewers":true
    }
   }
  },
  {
   "cell_type":"code",
   "source":[
    "#tranformata Fouriera\n",
    "fft = np.fft.fft(noisy_signal) #transformata sygnału\n",
    "frequencies = np.fft.fftfreq(len(fft),d=1\/sampling_rate)\n",
    "amplitude = np.abs(fft) #Amplituda (moduł transformamty)"
   ],
   "execution_count":5,
   "outputs":[],
   "metadata":{
    "datalore":{
     "node_id":"bXYOifUzKEooLFDqIzvq7J",
     "type":"CODE",
     "hide_input_from_viewers":true,
     "hide_output_from_viewers":true
    }
   }
  },
  {
   "cell_type":"code",
   "source":[
    "#filtracja - usuwanie szumu wysokoczęstotliwościowego\n",
    "filtered_fft = fft.copy()\n",
    "filtered_fft[np.abs(frequencies)>60] = 0 #wycięcie wysokich częstotliwości\n",
    "filtered_signal = np.fft.ifft(filtered_fft) #sygnał pod odwrotnej trnasformacie"
   ],
   "execution_count":6,
   "outputs":[],
   "metadata":{
    "datalore":{
     "node_id":"6vzWiPBRsqQ0kfEqCP33aE",
     "type":"CODE",
     "hide_input_from_viewers":true,
     "hide_output_from_viewers":true
    }
   }
  }
 ],
 "metadata":{
  "kernelspec":{
   "display_name":"Python",
   "language":"python",
   "name":"python"
  },
  "datalore":{
   "computation_mode":"JUPYTER",
   "package_manager":"pip",
   "base_environment":"default",
   "packages":[],
   "report_row_ids":[],
   "version":3
  }
 },
 "nbformat":4,
 "nbformat_minor":4
}