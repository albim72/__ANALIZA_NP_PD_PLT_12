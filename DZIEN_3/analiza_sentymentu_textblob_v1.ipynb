{
 "cells":[
  {
   "cell_type":"code",
   "source":[
    "from textblob import TextBlob"
   ],
   "execution_count":1,
   "outputs":[],
   "metadata":{
    "datalore":{
     "node_id":"bs7c1fLEjdUD9XgMvTiIoB",
     "type":"CODE",
     "hide_input_from_viewers":true,
     "hide_output_from_viewers":true
    }
   }
  },
  {
   "cell_type":"code",
   "source":[
    "#przykłdowe opinie\n",
    "opinions = [\n",
    "    \"This product is amazing and exceeded my expectations!\",\n",
    "    \"I think and I suppose that this product is quite qood and I think that exceeded my expectations!\",\n",
    "    \"I am disappointed with the quality and will not recommend it.\",\n",
    "    \"The service was okay, but it could be much better.\",\n",
    "    \"Big Shit!\",\n",
    "    \"Beautiful disaster!\"\n",
    "]"
   ],
   "execution_count":2,
   "outputs":[],
   "metadata":{
    "datalore":{
     "node_id":"VzBJlB1JNIksz2vq9TxFNq",
     "type":"CODE",
     "hide_input_from_viewers":true,
     "hide_output_from_viewers":true
    }
   }
  },
  {
   "cell_type":"code",
   "source":[
    "#analiza sentymentu\n",
    "for opinion in opinions:\n",
    "    blob = TextBlob(opinion)\n",
    "    sentiment = blob.sentiment\n",
    "    print(f\"\\nTekst: {opinion}\")\n",
    "    print(f\"polaryzcja: {sentiment.polarity:.2f} (od -1 do 1, gdzie 1 to pozytywny teskt a -1 negatywny)\")\n",
    "    print(f\"subiektywnośc: {sentiment.subjectivity:.2f} (od 0 do 1, gdzie 1 to subiektywny teskt a 0 niesubiektywny)\\n\")\n",
    "    print(\"_\"*50)"
   ],
   "execution_count":3,
   "outputs":[
    {
     "name":"stdout",
     "text":[
      "\n",
      "Tekst: This product is amazing and exceeded my expectations!\n",
      "polaryzcja: 0.75 (od -1 do 1, gdzie 1 to pozytywny teskt a -1 negatywny)\n",
      "subiektywnośc: 0.90 (od 0 do 1, gdzie 1 to subiektywny teskt a 0 niesubiektywny)\n",
      "\n",
      "__________________________________________________\n",
      "\n",
      "Tekst: I think and I suppose that this product is quite qood and I think that exceeded my expectations!\n",
      "polaryzcja: 0.00 (od -1 do 1, gdzie 1 to pozytywny teskt a -1 negatywny)\n",
      "subiektywnośc: 0.00 (od 0 do 1, gdzie 1 to subiektywny teskt a 0 niesubiektywny)\n",
      "\n",
      "__________________________________________________\n",
      "\n",
      "Tekst: I am disappointed with the quality and will not recommend it.\n",
      "polaryzcja: -0.75 (od -1 do 1, gdzie 1 to pozytywny teskt a -1 negatywny)\n",
      "subiektywnośc: 0.75 (od 0 do 1, gdzie 1 to subiektywny teskt a 0 niesubiektywny)\n",
      "\n",
      "__________________________________________________\n",
      "\n",
      "Tekst: The service was okay, but it could be much better.\n",
      "polaryzcja: 0.50 (od -1 do 1, gdzie 1 to pozytywny teskt a -1 negatywny)\n",
      "subiektywnośc: 0.50 (od 0 do 1, gdzie 1 to subiektywny teskt a 0 niesubiektywny)\n",
      "\n",
      "__________________________________________________\n",
      "\n",
      "Tekst: Big Shit!\n",
      "polaryzcja: -0.12 (od -1 do 1, gdzie 1 to pozytywny teskt a -1 negatywny)\n",
      "subiektywnośc: 0.45 (od 0 do 1, gdzie 1 to subiektywny teskt a 0 niesubiektywny)\n",
      "\n",
      "__________________________________________________\n",
      "\n",
      "Tekst: Beautiful disaster!\n",
      "polaryzcja: 1.00 (od -1 do 1, gdzie 1 to pozytywny teskt a -1 negatywny)\n",
      "subiektywnośc: 1.00 (od 0 do 1, gdzie 1 to subiektywny teskt a 0 niesubiektywny)\n",
      "\n",
      "__________________________________________________\n"
     ],
     "output_type":"stream"
    }
   ],
   "metadata":{
    "datalore":{
     "node_id":"bO4ZWf1rCCYK9P3azRHiHO",
     "type":"CODE",
     "hide_input_from_viewers":true,
     "hide_output_from_viewers":true
    }
   }
  },
  {
   "cell_type":"code",
   "source":[
    "text = \"I love programming in Python! It's so fun.\""
   ],
   "execution_count":4,
   "outputs":[],
   "metadata":{
    "datalore":{
     "node_id":"hDIs078FdKGV9JzwkeLrEB",
     "type":"CODE",
     "hide_input_from_viewers":true,
     "hide_output_from_viewers":true
    }
   }
  },
  {
   "cell_type":"code",
   "source":[
    "blob = TextBlob(text)\n",
    "print(blob)"
   ],
   "execution_count":5,
   "outputs":[
    {
     "name":"stdout",
     "text":[
      "I love programming in Python! It's so fun.\n"
     ],
     "output_type":"stream"
    }
   ],
   "metadata":{
    "datalore":{
     "node_id":"EIrJkYDyGycun1Ob4LtN3z",
     "type":"CODE",
     "hide_input_from_viewers":true,
     "hide_output_from_viewers":true
    }
   }
  },
  {
   "cell_type":"code",
   "source":[
    "blob = TextBlob(text)\n",
    "translated = blob.translate(to=\"pl\")\n",
    "print(translated)"
   ],
   "execution_count":6,
   "outputs":[
    {
     "ename":"AttributeError",
     "evalue":"AttributeError: 'TextBlob' object has no attribute 'translate'",
     "traceback":[
      "\u001b[0;31m---------------------------------------------------------------------------",
      "Traceback (most recent call last)",
      "    at line 2 in <module>",
      "AttributeError: 'TextBlob' object has no attribute 'translate'"
     ],
     "output_type":"error"
    }
   ],
   "metadata":{
    "datalore":{
     "node_id":"lnYdVaHYQr0maLLMBNpbmf",
     "type":"CODE",
     "hide_input_from_viewers":true,
     "hide_output_from_viewers":true
    }
   }
  }
 ],
 "metadata":{
  "kernelspec":{
   "display_name":"Python",
   "language":"python",
   "name":"python"
  },
  "datalore":{
   "computation_mode":"JUPYTER",
   "package_manager":"pip",
   "base_environment":"default",
   "packages":[
    {
     "name":"textblob",
     "version":"0.18.0.post0",
     "source":"PIP"
    }
   ],
   "report_row_ids":[],
   "version":3
  }
 },
 "nbformat":4,
 "nbformat_minor":4
}